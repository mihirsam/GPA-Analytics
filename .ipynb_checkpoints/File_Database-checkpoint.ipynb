{
 "cells": [
  {
   "cell_type": "code",
   "execution_count": 2,
   "metadata": {},
   "outputs": [],
   "source": [
    "sub = {}"
   ]
  },
  {
   "cell_type": "code",
   "execution_count": 3,
   "metadata": {},
   "outputs": [],
   "source": [
    "sub['ENGINEERING MATHEMATICS V'] = 'MA1501'"
   ]
  },
  {
   "cell_type": "code",
   "execution_count": 4,
   "metadata": {},
   "outputs": [],
   "source": [
    "sub['ENGINEERING MATHEMATICS IV'] = 'MA1401'"
   ]
  },
  {
   "cell_type": "code",
   "execution_count": 5,
   "metadata": {},
   "outputs": [],
   "source": [
    "sub['STOCHASTIC PROCESSES AND NUMERICAL METHODS'] = 'MA1501'"
   ]
  },
  {
   "cell_type": "code",
   "execution_count": 6,
   "metadata": {},
   "outputs": [],
   "source": [
    "sub['DISCRETE MATHEMATICS'] = 'MA1308'"
   ]
  },
  {
   "cell_type": "code",
   "execution_count": 7,
   "metadata": {},
   "outputs": [],
   "source": [
    "sub['ENGINEERING MATHEMATICS III'] = 'MA1306'"
   ]
  },
  {
   "cell_type": "code",
   "execution_count": 8,
   "metadata": {},
   "outputs": [],
   "source": [
    "sub['ENGINEERING MATHEMATICS II'] = 'MA1201'"
   ]
  },
  {
   "cell_type": "code",
   "execution_count": 9,
   "metadata": {},
   "outputs": [],
   "source": [
    "sub['ENGINEERING MATHEMATICS I'] = 'MA1101'"
   ]
  },
  {
   "cell_type": "code",
   "execution_count": 10,
   "metadata": {},
   "outputs": [],
   "source": [
    "sub['MECHANICS OF SOLIDS'] = 'CE1102'"
   ]
  },
  {
   "cell_type": "code",
   "execution_count": 11,
   "metadata": {},
   "outputs": [],
   "source": [
    "sub['ENGINEERING CHEMISTRY'] = 'CH1108'"
   ]
  },
  {
   "cell_type": "code",
   "execution_count": 12,
   "metadata": {},
   "outputs": [],
   "source": [
    "sub['ENGINEERING CHEMISTRY LAB'] = 'CH1163'"
   ]
  },
  {
   "cell_type": "code",
   "execution_count": 13,
   "metadata": {},
   "outputs": [],
   "source": [
    "sub['ENVIRONMENTAL SCIENCE'] = 'CH1191'"
   ]
  },
  {
   "cell_type": "code",
   "execution_count": 14,
   "metadata": {},
   "outputs": [],
   "source": [
    "sub['COMPUTER PROGRAMMING USING C'] = 'CS1110'"
   ]
  },
  {
   "cell_type": "code",
   "execution_count": 15,
   "metadata": {},
   "outputs": [],
   "source": [
    "sub['COMPUTER PROGRAMMING LAB'] = 'CS1164'"
   ]
  },
  {
   "cell_type": "code",
   "execution_count": 16,
   "metadata": {},
   "outputs": [],
   "source": [
    "sub['BASIC ELECTRONICS'] = 'EC1107'"
   ]
  },
  {
   "cell_type": "code",
   "execution_count": 17,
   "metadata": {},
   "outputs": [],
   "source": [
    "sub['BASIC ELECTRONICS LAB'] = 'EE1362'"
   ]
  },
  {
   "cell_type": "code",
   "execution_count": 18,
   "metadata": {},
   "outputs": [],
   "source": [
    "sub['ELEMENTS OF ELECTRICAL ENGINEERING'] = 'EE1109'"
   ]
  },
  {
   "cell_type": "code",
   "execution_count": 19,
   "metadata": {},
   "outputs": [],
   "source": [
    "sub['ELEMENTS OF MECHANICAL ENGINEERING'] = 'ME1104'"
   ]
  },
  {
   "cell_type": "code",
   "execution_count": 20,
   "metadata": {},
   "outputs": [],
   "source": [
    "sub['ENGINEERING GRAPHICS'] = 'ME1105'"
   ]
  },
  {
   "cell_type": "code",
   "execution_count": 21,
   "metadata": {},
   "outputs": [],
   "source": [
    "sub['ENGINEERING PHYSICS LAB'] = 'PH1162'"
   ]
  },
  {
   "cell_type": "code",
   "execution_count": 22,
   "metadata": {},
   "outputs": [],
   "source": [
    "sub['ENGINEERING PHYSICS'] = 'PH1103'"
   ]
  },
  {
   "cell_type": "code",
   "execution_count": 23,
   "metadata": {},
   "outputs": [],
   "source": [
    "sub['DATA STRUCTURES LAB CSE'] = 'CS1361'"
   ]
  },
  {
   "cell_type": "code",
   "execution_count": 24,
   "metadata": {},
   "outputs": [],
   "source": [
    "sub['DATA STRUCTURES LAB IT'] = 'IT1361'"
   ]
  },
  {
   "cell_type": "code",
   "execution_count": 25,
   "metadata": {},
   "outputs": [],
   "source": [
    "sub['DATA STRUCTURES LAB CA'] = 'CA1361'"
   ]
  },
  {
   "cell_type": "code",
   "execution_count": 26,
   "metadata": {},
   "outputs": [],
   "source": [
    "sub['DATA STRUCTURES LAB BCA'] = 'BCA306'"
   ]
  },
  {
   "cell_type": "code",
   "execution_count": 27,
   "metadata": {},
   "outputs": [],
   "source": [
    "sub['DATA STRUCTURES LAB'] = 'MULTIPLE'"
   ]
  },
  {
   "cell_type": "code",
   "execution_count": 28,
   "metadata": {},
   "outputs": [],
   "source": [
    "sub['DATA STRUCTURES CSE'] = 'CS1302'"
   ]
  },
  {
   "cell_type": "code",
   "execution_count": 29,
   "metadata": {},
   "outputs": [],
   "source": [
    "sub['DATA STRUCTURES CA'] = 'CA1303'"
   ]
  },
  {
   "cell_type": "code",
   "execution_count": 30,
   "metadata": {},
   "outputs": [],
   "source": [
    "# MIXED DATA STRUCTURE AND DS LAB . FIX THAT FOR CSE, CA || FIXED"
   ]
  },
  {
   "cell_type": "code",
   "execution_count": 31,
   "metadata": {},
   "outputs": [],
   "source": [
    "sub['DATA STRUCTURES BCA'] = 'BCA303'"
   ]
  },
  {
   "cell_type": "code",
   "execution_count": 32,
   "metadata": {},
   "outputs": [],
   "source": [
    "sub['DATA STRUCTURES'] = 'MULTIPLE'"
   ]
  },
  {
   "cell_type": "code",
   "execution_count": 33,
   "metadata": {},
   "outputs": [],
   "source": [
    "sub['ADVANCED DATA STRUCTURES & ALGORITHMS BCA'] = 'BCA505'"
   ]
  },
  {
   "cell_type": "code",
   "execution_count": 34,
   "metadata": {},
   "outputs": [],
   "source": [
    "sub['DATA STRUCTURES IT'] = 'IT1302'"
   ]
  },
  {
   "cell_type": "code",
   "execution_count": 35,
   "metadata": {},
   "outputs": [],
   "source": [
    "sub['QUANTITATIVE ANALYSIS USING C_C++ LAB'] = 'CS1564'"
   ]
  },
  {
   "cell_type": "code",
   "execution_count": 36,
   "metadata": {},
   "outputs": [],
   "source": [
    "sub['QUANTITATIVE ANALYSIS LAB'] = 'CS1564'"
   ]
  },
  {
   "cell_type": "code",
   "execution_count": 37,
   "metadata": {},
   "outputs": [],
   "source": [
    "sub['QUANTITATIVE ANALYSIS_ENGINEERING MATHEMATICS V'] = 'MA1501'"
   ]
  },
  {
   "cell_type": "code",
   "execution_count": 38,
   "metadata": {},
   "outputs": [],
   "source": [
    "sub['QUANTITATIVE ANALYSIS_MATHEMATICS IV'] = 'MA1501'"
   ]
  },
  {
   "cell_type": "code",
   "execution_count": 39,
   "metadata": {},
   "outputs": [],
   "source": [
    "sub['QUANTITATIVE ANALYSIS FOR COMPUTER APPLICATIONS'] = 'MA2208'"
   ]
  },
  {
   "cell_type": "code",
   "execution_count": 40,
   "metadata": {},
   "outputs": [],
   "source": [
    "sub['QUANTITATIVE ANALYSIS _ ENGG MATHS IV'] = 'MA1501'"
   ]
  },
  {
   "cell_type": "code",
   "execution_count": 41,
   "metadata": {},
   "outputs": [],
   "source": [
    "sub['QUANTITATIVE ANALYSIS BA'] = 'BA1103'"
   ]
  },
  {
   "cell_type": "code",
   "execution_count": 42,
   "metadata": {},
   "outputs": [],
   "source": [
    "sub['QUANTITATIVE ANALYSIS MA'] = 'MA2208'"
   ]
  },
  {
   "cell_type": "code",
   "execution_count": 43,
   "metadata": {},
   "outputs": [],
   "source": [
    "sub['QUANTITATIVE ANALYSIS CSE'] = 'MA1501'"
   ]
  },
  {
   "cell_type": "code",
   "execution_count": 44,
   "metadata": {},
   "outputs": [],
   "source": [
    "sub['QUANTITATIVE ANALYSIS MCA'] = 'MA2208'"
   ]
  },
  {
   "cell_type": "code",
   "execution_count": 45,
   "metadata": {},
   "outputs": [],
   "source": [
    "sub['COMPUTER PROGRAMS FOR QUANTITATIVE ANALYSIS'] = 'MCA102'"
   ]
  },
  {
   "cell_type": "code",
   "execution_count": 46,
   "metadata": {},
   "outputs": [],
   "source": [
    "sub['QUANTITATIVE ANALYSIS BBA'] = 'BBA204'"
   ]
  },
  {
   "cell_type": "code",
   "execution_count": 47,
   "metadata": {},
   "outputs": [],
   "source": [
    "sub['QUANTITATIVE ANALYSIS'] = 'MULTIPLE'"
   ]
  },
  {
   "cell_type": "code",
   "execution_count": 48,
   "metadata": {},
   "outputs": [],
   "source": [
    "sub['MATHEMATICS IV BBA'] = 'BA1103'"
   ]
  },
  {
   "cell_type": "code",
   "execution_count": 49,
   "metadata": {},
   "outputs": [],
   "source": [
    "sub['BUSINESS MATHEMATICS'] = 'MA1205'"
   ]
  },
  {
   "cell_type": "code",
   "execution_count": 50,
   "metadata": {},
   "outputs": [],
   "source": [
    "sub['MATHEMATICS III'] = 'MA1304'"
   ]
  },
  {
   "cell_type": "code",
   "execution_count": 51,
   "metadata": {},
   "outputs": [],
   "source": [
    "sub['MATHEMATICS II'] = 'MA1204'"
   ]
  },
  {
   "cell_type": "code",
   "execution_count": 52,
   "metadata": {},
   "outputs": [],
   "source": [
    "sub['MATHEMATICS I'] = 'MA1104'"
   ]
  },
  {
   "cell_type": "code",
   "execution_count": 53,
   "metadata": {},
   "outputs": [],
   "source": [
    "sub['FUNDAMENTALS OF MATHEMATICS'] = 'CA1113'"
   ]
  },
  {
   "cell_type": "code",
   "execution_count": 54,
   "metadata": {},
   "outputs": [],
   "source": [
    "sub['ADVANCED ENGINEERING MATHEMATICS & OPTIMIZATION'] = 'CE2199'"
   ]
  },
  {
   "cell_type": "code",
   "execution_count": 55,
   "metadata": {},
   "outputs": [],
   "source": [
    "sub['MATHEMATICS'] = 'MULTIPLE'"
   ]
  },
  {
   "cell_type": "code",
   "execution_count": 56,
   "metadata": {},
   "outputs": [],
   "source": [
    "sub['DIGITAL CIRCUITS & LOGIC DESIGN LAB CSE'] = 'CS1363'"
   ]
  },
  {
   "cell_type": "code",
   "execution_count": 57,
   "metadata": {},
   "outputs": [],
   "source": [
    "sub['DIGITAL CIRCUITS & LOGIC DESIGN LAB IT'] = 'IT1362'"
   ]
  },
  {
   "cell_type": "code",
   "execution_count": 58,
   "metadata": {},
   "outputs": [],
   "source": [
    "sub['DIGITAL CIRCUITS & LOGIC DESIGN CSE'] = 'CS1304'"
   ]
  },
  {
   "cell_type": "code",
   "execution_count": 59,
   "metadata": {},
   "outputs": [],
   "source": [
    "sub['DIGITAL CIRCUITS & LOGIC DESIGN IT'] = 'IT1304'"
   ]
  },
  {
   "cell_type": "code",
   "execution_count": 60,
   "metadata": {},
   "outputs": [],
   "source": [
    "sub['DIGITAL CIRCUITS & LOGIC DESIGN'] = 'MULTIPLE'"
   ]
  },
  {
   "cell_type": "code",
   "execution_count": 61,
   "metadata": {},
   "outputs": [],
   "source": [
    "sub['COMPUTER ORGANIZATION & ARCHITECTURE CSE'] = 'CS1306'"
   ]
  },
  {
   "cell_type": "code",
   "execution_count": 62,
   "metadata": {},
   "outputs": [],
   "source": [
    "sub['COMPUTER ORGANIZATION & ARCHITECTURE CA'] = 'CA2205'"
   ]
  },
  {
   "cell_type": "code",
   "execution_count": 63,
   "metadata": {},
   "outputs": [],
   "source": [
    "sub['COMPUTER ORGANIZATION & ARCHITECTURE BCA'] = 'BCA302'"
   ]
  },
  {
   "cell_type": "code",
   "execution_count": 64,
   "metadata": {},
   "outputs": [],
   "source": [
    "sub['COMPUTER ORGANIZATION & ARCHITECTURE MCA'] = 'MCA205'"
   ]
  },
  {
   "cell_type": "code",
   "execution_count": 65,
   "metadata": {},
   "outputs": [],
   "source": [
    "sub['ADVANCED COMPUTER ORGANIZATION & ARCHITECTURE'] = 'CS1406'"
   ]
  },
  {
   "cell_type": "code",
   "execution_count": 66,
   "metadata": {},
   "outputs": [],
   "source": [
    "sub['COMPUTER ORGANIZATION & ARCHITECTURE'] = 'MULTIPLE'"
   ]
  },
  {
   "cell_type": "code",
   "execution_count": 67,
   "metadata": {},
   "outputs": [],
   "source": [
    "sub['INTELLECTUAL PROPERTY RIGHTS & SOFTWARE'] = 'CS1307'"
   ]
  },
  {
   "cell_type": "code",
   "execution_count": 68,
   "metadata": {},
   "outputs": [],
   "source": [
    "sub['DATABASE MANAGEMENT SYSTEMS LAB CS'] = 'CS1462'"
   ]
  },
  {
   "cell_type": "code",
   "execution_count": 69,
   "metadata": {},
   "outputs": [],
   "source": [
    "sub['DATABASE MANAGEMENT SYSTEMS LAB IT'] = 'IT1462'"
   ]
  },
  {
   "cell_type": "code",
   "execution_count": 70,
   "metadata": {},
   "outputs": [],
   "source": [
    "sub['DATABASE MANAGEMENT SYSTEMS LAB IS'] = 'IS1364'"
   ]
  },
  {
   "cell_type": "code",
   "execution_count": 71,
   "metadata": {},
   "outputs": [],
   "source": [
    "sub['DATABASE MANAGEMENT SYSTEM LAB MCA'] = 'CA2363'"
   ]
  },
  {
   "cell_type": "code",
   "execution_count": 72,
   "metadata": {},
   "outputs": [],
   "source": [
    "sub['DATABASE MANAGEMENT SYSTEM LAB BCA'] = 'CA1461'"
   ]
  },
  {
   "cell_type": "code",
   "execution_count": 73,
   "metadata": {},
   "outputs": [],
   "source": [
    "sub['DISTRIBUTED DATABASE MANAGEMENT SYSTEM CA'] = 'CA2540'"
   ]
  },
  {
   "cell_type": "code",
   "execution_count": 74,
   "metadata": {},
   "outputs": [],
   "source": [
    "sub['DATABASE MANAGEMENT SYSTEM CS'] = 'CS1403'"
   ]
  },
  {
   "cell_type": "code",
   "execution_count": 75,
   "metadata": {},
   "outputs": [],
   "source": [
    "sub['DATABASE MANAGEMENT SYSTEM MCA'] = 'CA2303'"
   ]
  },
  {
   "cell_type": "code",
   "execution_count": 76,
   "metadata": {},
   "outputs": [],
   "source": [
    "sub['DATABASE MANAGEMENT SYSTEM IS'] = 'IS1304'"
   ]
  },
  {
   "cell_type": "code",
   "execution_count": 77,
   "metadata": {},
   "outputs": [],
   "source": [
    "sub['DATABASE MANAGEMENT SYSTEM MCA ELECTIVE'] = 'CA2540'"
   ]
  },
  {
   "cell_type": "code",
   "execution_count": 78,
   "metadata": {},
   "outputs": [],
   "source": [
    "sub['DATABASE MANAGEMENT SYSTEM BCA'] = 'CA1401'"
   ]
  },
  {
   "cell_type": "code",
   "execution_count": 79,
   "metadata": {},
   "outputs": [],
   "source": [
    "sub['DATABASE MANAGEMENT SYSTEM IT'] = 'IT1404'"
   ]
  },
  {
   "cell_type": "code",
   "execution_count": 80,
   "metadata": {},
   "outputs": [],
   "source": [
    "sub['DATABASE MANAGEMENT SYSTEM'] = 'MULTIPLE'"
   ]
  },
  {
   "cell_type": "code",
   "execution_count": 81,
   "metadata": {},
   "outputs": [],
   "source": [
    "sub['COMPUTER GRAPHICS CS'] = 'CS1404'"
   ]
  },
  {
   "cell_type": "code",
   "execution_count": 82,
   "metadata": {},
   "outputs": [],
   "source": [
    "sub['COMPUTER GRAPHICS IT'] = 'IT1502'"
   ]
  },
  {
   "cell_type": "code",
   "execution_count": 83,
   "metadata": {},
   "outputs": [],
   "source": [
    "sub['COMPUTER GRAPHICS MCA'] = 'CA2202'"
   ]
  },
  {
   "cell_type": "code",
   "execution_count": 84,
   "metadata": {},
   "outputs": [],
   "source": [
    "sub['COMPUTER GRAPHICS BCA'] = 'BCA604'"
   ]
  },
  {
   "cell_type": "code",
   "execution_count": 85,
   "metadata": {},
   "outputs": [],
   "source": [
    "sub['COMPUTER GRAPHICS LAB IT'] = 'IT1561'"
   ]
  },
  {
   "cell_type": "code",
   "execution_count": 86,
   "metadata": {},
   "outputs": [],
   "source": [
    "sub['COMPUTER GRAPHICS LAB CS'] = 'CS1463'"
   ]
  },
  {
   "cell_type": "code",
   "execution_count": 87,
   "metadata": {},
   "outputs": [],
   "source": [
    "sub['COMPUTER GRAPHICS LAB ME'] = 'ME1462'"
   ]
  },
  {
   "cell_type": "code",
   "execution_count": 88,
   "metadata": {},
   "outputs": [],
   "source": [
    "sub['COMPUTER GRAPHICS LAB MCA'] = 'CA2261'"
   ]
  },
  {
   "cell_type": "code",
   "execution_count": 89,
   "metadata": {},
   "outputs": [],
   "source": [
    "sub['COMPUTER GRAPHICS LAB BCA'] = 'BCA606'"
   ]
  },
  {
   "cell_type": "code",
   "execution_count": 90,
   "metadata": {},
   "outputs": [],
   "source": [
    "sub['COMPUTER GRAPHICS'] = 'MULTIPLE'"
   ]
  },
  {
   "cell_type": "code",
   "execution_count": 91,
   "metadata": {},
   "outputs": [],
   "source": [
    "sub['DESIGN & ANALYSIS OF ALGORITHMS CS'] = 'CS1405'"
   ]
  },
  {
   "cell_type": "code",
   "execution_count": 92,
   "metadata": {},
   "outputs": [],
   "source": [
    "sub['DESIGN & ANALYSIS OF ALGORITHMS IT'] = 'IT1505'"
   ]
  },
  {
   "cell_type": "code",
   "execution_count": 93,
   "metadata": {},
   "outputs": [],
   "source": [
    "sub['ADVANCED DESIGN & ANALYSIS OF ALGORITHM'] = 'CS2133'"
   ]
  },
  {
   "cell_type": "code",
   "execution_count": 94,
   "metadata": {},
   "outputs": [],
   "source": [
    "sub['DESIGN & ANALYSIS OF ALGORITHMS'] = 'MULTIPLE'"
   ]
  },
  {
   "cell_type": "code",
   "execution_count": 95,
   "metadata": {},
   "outputs": [],
   "source": [
    "sub['OPERATING SYSTEM CS'] = 'CS1502'"
   ]
  },
  {
   "cell_type": "code",
   "execution_count": 96,
   "metadata": {},
   "outputs": [],
   "source": [
    "sub['OPERATING SYSTEM BCA'] = 'CA1501'"
   ]
  },
  {
   "cell_type": "code",
   "execution_count": 101,
   "metadata": {},
   "outputs": [],
   "source": [
    "sub['OPERATING SYSTEM MCA'] = 'CA2304'"
   ]
  },
  {
   "cell_type": "code",
   "execution_count": 102,
   "metadata": {},
   "outputs": [],
   "source": [
    "sub['OPERATING SYSTEM IT'] = 'IT1504'"
   ]
  },
  {
   "cell_type": "code",
   "execution_count": 103,
   "metadata": {},
   "outputs": [],
   "source": [
    "sub['EMBEDDED OPERATING SYSTEM'] = 'EC1734'"
   ]
  },
  {
   "cell_type": "code",
   "execution_count": 104,
   "metadata": {},
   "outputs": [],
   "source": [
    "sub['ADVANCED OPERATING SYSTEMS IT'] = 'IT2102'"
   ]
  },
  {
   "cell_type": "code",
   "execution_count": 105,
   "metadata": {},
   "outputs": [],
   "source": [
    "sub['OPERATING SYSTEM IS'] = 'IS1301'"
   ]
  },
  {
   "cell_type": "code",
   "execution_count": 106,
   "metadata": {},
   "outputs": [],
   "source": [
    "sub['OPERATING SYSTEMS LAB CS'] = 'CS1561'"
   ]
  },
  {
   "cell_type": "code",
   "execution_count": 107,
   "metadata": {},
   "outputs": [],
   "source": [
    "sub['OPERATING SYSTEMS LAB BCA'] = 'CA1561'"
   ]
  },
  {
   "cell_type": "code",
   "execution_count": 108,
   "metadata": {},
   "outputs": [],
   "source": [
    "sub['OPERATING SYSTEMS LAB IT'] = 'IT1563'"
   ]
  },
  {
   "cell_type": "code",
   "execution_count": 109,
   "metadata": {},
   "outputs": [],
   "source": [
    "sub['OPERATING SYSTEMS LAB MCA'] = 'CA2361'"
   ]
  },
  {
   "cell_type": "code",
   "execution_count": 110,
   "metadata": {},
   "outputs": [],
   "source": [
    "sub['ADVANCED OPERATING SYSTEMS LAB IT'] = 'IT2161'"
   ]
  },
  {
   "cell_type": "code",
   "execution_count": 111,
   "metadata": {},
   "outputs": [],
   "source": [
    "sub['OPERATING SYSTEMS'] = 'MULTIPLE'"
   ]
  },
  {
   "cell_type": "code",
   "execution_count": 97,
   "metadata": {},
   "outputs": [],
   "source": [
    "import pickle\n",
    "\n",
    "with open('Cleaned_Data/title.pkl', 'rb') as f:\n",
    "    titles = pickle.load(f)\n",
    "    f.close()"
   ]
  },
  {
   "cell_type": "code",
   "execution_count": 112,
   "metadata": {},
   "outputs": [
    {
     "name": "stdout",
     "output_type": "stream",
     "text": [
      "2495\n"
     ]
    },
    {
     "data": {
      "text/plain": [
       "['PROGRAMMING WITH C++ _11 12 13 14 15 16_',\n",
       " 'OBJECT ORIENTED CONCEPTS & PROGRAMMING WITH C++ _17_',\n",
       " 'OBJECT ORIENTED CONCEPTS & PROGRAMMING WITH C++ LAB',\n",
       " 'JAVA PROGRAMMING _ELECTIVE I__11 12 13 14 15 16_',\n",
       " 'SYSTEM PROGRAMMING _10 11 12 13 14 15_ _CSE1503 UPTO 2014 BATCH_']"
      ]
     },
     "execution_count": 112,
     "metadata": {},
     "output_type": "execute_result"
    }
   ],
   "source": [
    "rm_lis = []\n",
    "\n",
    "for item in titles:\n",
    "        for key in sub.keys():\n",
    "            if key in item and item not in rm_lis:\n",
    "                    rm_lis.append(item)\n",
    "                \n",
    "for item in rm_lis:\n",
    "    titles.remove(item)\n",
    " \n",
    "print(len(titles))\n",
    "titles[0:5]"
   ]
  },
  {
   "cell_type": "code",
   "execution_count": 99,
   "metadata": {},
   "outputs": [],
   "source": [
    "lis = ['apple', 'ball', 'cat', 'dog', 'cat']"
   ]
  },
  {
   "cell_type": "code",
   "execution_count": 100,
   "metadata": {},
   "outputs": [
    {
     "name": "stdout",
     "output_type": "stream",
     "text": [
      "['apple', 'ball', 'cat', 'dog', 'cat']\n"
     ]
    },
    {
     "data": {
      "text/plain": [
       "['apple', 'ball', 'dog', 'cat']"
      ]
     },
     "execution_count": 100,
     "metadata": {},
     "output_type": "execute_result"
    }
   ],
   "source": [
    "print(lis)\n",
    "lis.remove('cat')\n",
    "lis"
   ]
  },
  {
   "cell_type": "code",
   "execution_count": null,
   "metadata": {},
   "outputs": [],
   "source": []
  }
 ],
 "metadata": {
  "kernelspec": {
   "display_name": "Python 3",
   "language": "python",
   "name": "python3"
  },
  "language_info": {
   "codemirror_mode": {
    "name": "ipython",
    "version": 3
   },
   "file_extension": ".py",
   "mimetype": "text/x-python",
   "name": "python",
   "nbconvert_exporter": "python",
   "pygments_lexer": "ipython3",
   "version": "3.6.8"
  }
 },
 "nbformat": 4,
 "nbformat_minor": 2
}
