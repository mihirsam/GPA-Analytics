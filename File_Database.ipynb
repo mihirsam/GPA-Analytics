{
 "cells": [
  {
   "cell_type": "code",
   "execution_count": 1,
   "metadata": {},
   "outputs": [],
   "source": [
    "sub = {}"
   ]
  },
  {
   "cell_type": "code",
   "execution_count": 2,
   "metadata": {},
   "outputs": [],
   "source": [
    "sub['ENGINEERING MATHEMATICS V'] = 'MA1501'"
   ]
  },
  {
   "cell_type": "code",
   "execution_count": 3,
   "metadata": {},
   "outputs": [],
   "source": [
    "sub['ENGINEERING MATHEMATICS IV'] = 'MA1401'"
   ]
  },
  {
   "cell_type": "code",
   "execution_count": 4,
   "metadata": {},
   "outputs": [],
   "source": [
    "sub['STOCHASTIC PROCESSES AND NUMERICAL METHODS'] = 'MA1501'"
   ]
  },
  {
   "cell_type": "code",
   "execution_count": 5,
   "metadata": {},
   "outputs": [],
   "source": [
    "sub['DISCRETE MATHEMATICS'] = 'MA1308'"
   ]
  },
  {
   "cell_type": "code",
   "execution_count": 6,
   "metadata": {},
   "outputs": [],
   "source": [
    "sub['ENGINEERING MATHEMATICS III'] = 'MA1306'"
   ]
  },
  {
   "cell_type": "code",
   "execution_count": 7,
   "metadata": {},
   "outputs": [],
   "source": [
    "sub['ENGINEERING MATHEMATICS II'] = 'MA1201'"
   ]
  },
  {
   "cell_type": "code",
   "execution_count": 8,
   "metadata": {},
   "outputs": [],
   "source": [
    "sub['ENGINEERING MATHEMATICS I'] = 'MA1101'"
   ]
  },
  {
   "cell_type": "code",
   "execution_count": 9,
   "metadata": {},
   "outputs": [],
   "source": [
    "sub['MECHANICS OF SOLIDS'] = 'CE1102'"
   ]
  },
  {
   "cell_type": "code",
   "execution_count": 10,
   "metadata": {},
   "outputs": [],
   "source": [
    "sub['ENGINEERING CHEMISTRY'] = 'CH1108'"
   ]
  },
  {
   "cell_type": "code",
   "execution_count": 11,
   "metadata": {},
   "outputs": [],
   "source": [
    "sub['ENGINEERING CHEMISTRY LAB'] = 'CH1163'"
   ]
  },
  {
   "cell_type": "code",
   "execution_count": 12,
   "metadata": {},
   "outputs": [],
   "source": [
    "sub['ENVIRONMENTAL SCIENCE'] = 'CH1191'"
   ]
  },
  {
   "cell_type": "code",
   "execution_count": 13,
   "metadata": {},
   "outputs": [],
   "source": [
    "sub['COMPUTER PROGRAMMING USING C'] = 'CS1110'"
   ]
  },
  {
   "cell_type": "code",
   "execution_count": 14,
   "metadata": {},
   "outputs": [],
   "source": [
    "sub['COMPUTER PROGRAMMING LAB'] = 'CS1164'"
   ]
  },
  {
   "cell_type": "code",
   "execution_count": 15,
   "metadata": {},
   "outputs": [],
   "source": [
    "sub['BASIC ELECTRONICS'] = 'EC1107'"
   ]
  },
  {
   "cell_type": "code",
   "execution_count": 16,
   "metadata": {},
   "outputs": [],
   "source": [
    "sub['BASIC ELECTRONICS LAB'] = 'EE1362'"
   ]
  },
  {
   "cell_type": "code",
   "execution_count": 17,
   "metadata": {},
   "outputs": [],
   "source": [
    "sub['ELEMENTS OF ELECTRICAL ENGINEERING'] = 'EE1109'"
   ]
  },
  {
   "cell_type": "code",
   "execution_count": 18,
   "metadata": {},
   "outputs": [],
   "source": [
    "sub['ELEMENTS OF MECHANICAL ENGINEERING'] = 'ME1104'"
   ]
  },
  {
   "cell_type": "code",
   "execution_count": 19,
   "metadata": {},
   "outputs": [],
   "source": [
    "sub['ENGINEERING GRAPHICS'] = 'ME1105'"
   ]
  },
  {
   "cell_type": "code",
   "execution_count": 20,
   "metadata": {},
   "outputs": [],
   "source": [
    "sub['ENGINEERING PHYSICS LAB'] = 'PH1162'"
   ]
  },
  {
   "cell_type": "code",
   "execution_count": 21,
   "metadata": {},
   "outputs": [],
   "source": [
    "sub['ENGINEERING PHYSICS'] = 'PH1103'"
   ]
  },
  {
   "cell_type": "code",
   "execution_count": 22,
   "metadata": {},
   "outputs": [],
   "source": [
    "sub['DATA STRUCTURES LAB CSE'] = 'CS1361'"
   ]
  },
  {
   "cell_type": "code",
   "execution_count": 23,
   "metadata": {},
   "outputs": [],
   "source": [
    "sub['DATA STRUCTURES LAB IT'] = 'IT1361'"
   ]
  },
  {
   "cell_type": "code",
   "execution_count": 24,
   "metadata": {},
   "outputs": [],
   "source": [
    "sub['DATA STRUCTURES LAB CA'] = 'CA1361'"
   ]
  },
  {
   "cell_type": "code",
   "execution_count": 25,
   "metadata": {},
   "outputs": [],
   "source": [
    "sub['DATA STRUCTURES LAB BCA'] = 'BCA306'"
   ]
  },
  {
   "cell_type": "code",
   "execution_count": 26,
   "metadata": {},
   "outputs": [],
   "source": [
    "sub['DATA STRUCTURES LAB'] = 'MULTIPLE'"
   ]
  },
  {
   "cell_type": "code",
   "execution_count": 27,
   "metadata": {},
   "outputs": [],
   "source": [
    "sub['DATA STRUCTURES CSE'] = 'CS1302'"
   ]
  },
  {
   "cell_type": "code",
   "execution_count": 28,
   "metadata": {},
   "outputs": [],
   "source": [
    "sub['DATA STRUCTURES CA'] = 'CA1303'"
   ]
  },
  {
   "cell_type": "code",
   "execution_count": 29,
   "metadata": {},
   "outputs": [],
   "source": [
    "# MIXED DATA STRUCTURE AND DS LAB . FIX THAT FOR CSE, CA || FIXED"
   ]
  },
  {
   "cell_type": "code",
   "execution_count": 30,
   "metadata": {},
   "outputs": [],
   "source": [
    "sub['DATA STRUCTURES BCA'] = 'BCA303'"
   ]
  },
  {
   "cell_type": "code",
   "execution_count": 31,
   "metadata": {},
   "outputs": [],
   "source": [
    "sub['DATA STRUCTURES'] = 'MULTIPLE'"
   ]
  },
  {
   "cell_type": "code",
   "execution_count": 32,
   "metadata": {},
   "outputs": [],
   "source": [
    "sub['ADVANCED DATA STRUCTURES & ALGORITHMS BCA'] = 'BCA505'"
   ]
  },
  {
   "cell_type": "code",
   "execution_count": 33,
   "metadata": {},
   "outputs": [],
   "source": [
    "sub['DATA STRUCTURES IT'] = 'IT1302'"
   ]
  },
  {
   "cell_type": "code",
   "execution_count": 36,
   "metadata": {},
   "outputs": [],
   "source": [
    "sub['QUANTITATIVE ANALYSIS USING C_C++ LAB'] = 'CS1564'"
   ]
  },
  {
   "cell_type": "code",
   "execution_count": 37,
   "metadata": {},
   "outputs": [],
   "source": [
    "sub['QUANTITATIVE ANALYSIS LAB'] = 'CS1564'"
   ]
  },
  {
   "cell_type": "code",
   "execution_count": 38,
   "metadata": {},
   "outputs": [],
   "source": [
    "sub['QUANTITATIVE ANALYSIS_ENGINEERING MATHEMATICS V'] = 'MA1501'"
   ]
  },
  {
   "cell_type": "code",
   "execution_count": 39,
   "metadata": {},
   "outputs": [],
   "source": [
    "sub['QUANTITATIVE ANALYSIS_MATHEMATICS IV'] = 'MA1501'"
   ]
  },
  {
   "cell_type": "code",
   "execution_count": 40,
   "metadata": {},
   "outputs": [],
   "source": [
    "sub['QUANTITATIVE ANALYSIS FOR COMPUTER APPLICATIONS'] = 'MA2208'"
   ]
  },
  {
   "cell_type": "code",
   "execution_count": 41,
   "metadata": {},
   "outputs": [],
   "source": [
    "sub['QUANTITATIVE ANALYSIS _ ENGG MATHS IV'] = 'MA1501'"
   ]
  },
  {
   "cell_type": "code",
   "execution_count": 42,
   "metadata": {},
   "outputs": [],
   "source": [
    "sub['QUANTITATIVE ANALYSIS BA'] = 'BA1103'"
   ]
  },
  {
   "cell_type": "code",
   "execution_count": 43,
   "metadata": {},
   "outputs": [],
   "source": [
    "sub['QUANTITATIVE ANALYSIS MA'] = 'MA2208'"
   ]
  },
  {
   "cell_type": "code",
   "execution_count": 44,
   "metadata": {},
   "outputs": [],
   "source": [
    "sub['QUANTITATIVE ANALYSIS CSE'] = 'MA1501'"
   ]
  },
  {
   "cell_type": "code",
   "execution_count": 45,
   "metadata": {},
   "outputs": [],
   "source": [
    "sub['QUANTITATIVE ANALYSIS MCA'] = 'MA2208'"
   ]
  },
  {
   "cell_type": "code",
   "execution_count": 46,
   "metadata": {},
   "outputs": [],
   "source": [
    "sub['COMPUTER PROGRAMS FOR QUANTITATIVE ANALYSIS'] = 'MCA102'"
   ]
  },
  {
   "cell_type": "code",
   "execution_count": 47,
   "metadata": {},
   "outputs": [],
   "source": [
    "sub['QUANTITATIVE ANALYSIS BBA'] = 'BBA204'"
   ]
  },
  {
   "cell_type": "code",
   "execution_count": 48,
   "metadata": {},
   "outputs": [],
   "source": [
    "sub['QUANTITATIVE ANALYSIS'] = 'MULTIPLE'"
   ]
  },
  {
   "cell_type": "code",
   "execution_count": 34,
   "metadata": {},
   "outputs": [],
   "source": [
    "import pickle\n",
    "\n",
    "with open('Cleaned_Data/title.pkl', 'rb') as f:\n",
    "    titles = pickle.load(f)\n",
    "    f.close()"
   ]
  },
  {
   "cell_type": "code",
   "execution_count": 49,
   "metadata": {},
   "outputs": [
    {
     "name": "stdout",
     "output_type": "stream",
     "text": [
      "2624\n"
     ]
    },
    {
     "data": {
      "text/plain": [
       "['MATHEMATICS I _13 14 15 16 17 18_',\n",
       " 'PROGRAMMING WITH C++ _11 12 13 14 15 16_',\n",
       " 'DIGITAL CIRCUITS & LOGIC DESIGN _11 12 13 14 15 16_',\n",
       " 'DIGITAL CIRCUITS & LOGIC DESIGN _17_',\n",
       " 'COMPUTER ORGANIZATION & ARCHITECTURE _11 12 13 14 15 16_']"
      ]
     },
     "execution_count": 49,
     "metadata": {},
     "output_type": "execute_result"
    }
   ],
   "source": [
    "rm_lis = []\n",
    "\n",
    "for item in titles:\n",
    "        for key in sub.keys():\n",
    "            if key in item and item not in rm_lis:\n",
    "                    rm_lis.append(item)\n",
    "                \n",
    "for item in rm_lis:\n",
    "    titles.remove(item)\n",
    " \n",
    "print(len(titles))\n",
    "titles[0:5]"
   ]
  },
  {
   "cell_type": "code",
   "execution_count": 29,
   "metadata": {},
   "outputs": [],
   "source": [
    "lis = ['apple', 'ball', 'cat', 'dog', 'cat']"
   ]
  },
  {
   "cell_type": "code",
   "execution_count": 15,
   "metadata": {},
   "outputs": [
    {
     "name": "stdout",
     "output_type": "stream",
     "text": [
      "['apple', 'ball', 'cat', 'dog', 'cat']\n"
     ]
    },
    {
     "data": {
      "text/plain": [
       "['apple', 'ball', 'dog', 'cat']"
      ]
     },
     "execution_count": 15,
     "metadata": {},
     "output_type": "execute_result"
    }
   ],
   "source": [
    "print(lis)\n",
    "lis.remove('cat')\n",
    "lis"
   ]
  },
  {
   "cell_type": "code",
   "execution_count": null,
   "metadata": {},
   "outputs": [],
   "source": []
  }
 ],
 "metadata": {
  "kernelspec": {
   "display_name": "Python 3",
   "language": "python",
   "name": "python3"
  },
  "language_info": {
   "codemirror_mode": {
    "name": "ipython",
    "version": 3
   },
   "file_extension": ".py",
   "mimetype": "text/x-python",
   "name": "python",
   "nbconvert_exporter": "python",
   "pygments_lexer": "ipython3",
   "version": "3.6.8"
  }
 },
 "nbformat": 4,
 "nbformat_minor": 2
}
